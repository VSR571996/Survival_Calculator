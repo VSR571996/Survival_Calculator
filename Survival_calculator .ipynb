{
  "nbformat": 4,
  "nbformat_minor": 0,
  "metadata": {
    "colab": {
      "provenance": []
    },
    "kernelspec": {
      "name": "python3",
      "display_name": "Python 3"
    },
    "language_info": {
      "name": "python"
    }
  },
  "cells": [
    {
      "cell_type": "code",
      "execution_count": 16,
      "metadata": {
        "colab": {
          "base_uri": "https://localhost:8080/"
        },
        "id": "RJzFCZNpGRIq",
        "outputId": "1fbfe1bc-62a8-4404-a15a-37870d8f155a"
      },
      "outputs": [
        {
          "output_type": "stream",
          "name": "stdout",
          "text": [
            "Welcome to the survival duration calculator\n",
            "Please Enter your age in years:10\n",
            "Please choose your prefered time unit:\n",
            "          1.Months\n",
            "          2.Weeks\n",
            "          3.Days\n",
            "          4.Hours\n",
            "          5.Minutes\n",
            "          6.Seconds\n",
            "Hint-Choose from the options mentioned above\n",
            " Days\n",
            "You have survived 3650.0 days\n"
          ]
        }
      ],
      "source": [
        "print(\"Welcome to the survival duration calculator\")\n",
        "\n",
        "age =float(input(\"Please Enter your age in years:\"))\n",
        "\n",
        "unit= input(f'''Please choose your prefered time unit:\n",
        "          1.Months\n",
        "          2.Weeks\n",
        "          3.Days\n",
        "          4.Hours\n",
        "          5.Minutes\n",
        "          6.Seconds\n",
        "Hint-Choose from the options mentioned above\n",
        " ''')\n",
        "if unit==\"months\" or unit=='M' or unit==\"1\" or unit==\"Months\":\n",
        "    print(f\"You have survived {age*12} months\")\n",
        "\n",
        "elif unit==\"weeks\" or unit=='W' or unit==\"2\" or unit==\"Weeks\":\n",
        "    print(f\"You have survived {age*12*4} weeks\")\n",
        "\n",
        "elif unit==\"days\" or unit=='D' or unit==\"3\" or unit==\"Days\":\n",
        "    print(f\"You have survived {age*365} days\")\n",
        "\n",
        "elif unit==\"hours\" or unit=='H' or unit==\"4\" or unit==\"Hours\":\n",
        "    print(f\"You have survived {age*12*4*24} hours\")\n",
        "\n",
        "elif unit==\"minutes\" or unit=='m' or unit==\"5\" or unit==\"Minutes\" :\n",
        "    print(f\"You have survived {age*12*4*24*60} minutes\")\n",
        "\n",
        "elif unit==\"seconds\" or unit=='s' or unit==\"6\" or unit==\"Seconds\":\n",
        "    print(f\"You have survived {age*12*4*24*60*60} seconds\")\n",
        "\n",
        "else:\n",
        "    print(\"Your choice is not availaible\")\n"
      ]
    },
    {
      "cell_type": "code",
      "source": [],
      "metadata": {
        "id": "kLQAXLI6MF0t"
      },
      "execution_count": null,
      "outputs": []
    }
  ]
}